{
 "cells": [
  {
   "cell_type": "code",
   "execution_count": null,
   "metadata": {},
   "outputs": [],
   "source": [
    "from IPython.core.display import display, HTML\n",
    "display(HTML(\"<style>.container { width:90% !important; }</style>\"))\n",
    "from requests.auth import HTTPBasicAuth\n",
    "from getpass import getpass\n",
    "import requests\n",
    "import os\n",
    "import pandas as pd"
   ]
  },
  {
   "cell_type": "code",
   "execution_count": null,
   "metadata": {},
   "outputs": [],
   "source": [
    "username = input(\"Username: \")\n",
    "password = getpass(\"Password: \")"
   ]
  },
  {
   "cell_type": "code",
   "execution_count": null,
   "metadata": {},
   "outputs": [],
   "source": [
    "def get(url):\n",
    "    try:\n",
    "        response = requests.get(url=url)\n",
    "        if response.status_code in (200, 201):\n",
    "            return response\n",
    "        else:\n",
    "            return \"Error:  Unexpected response {}\".format(response)\n",
    "    except requests.exceptions.RequestException as e:\n",
    "        return \"Error: {}\".format(e)"
   ]
  },
  {
   "cell_type": "code",
   "execution_count": null,
   "metadata": {},
   "outputs": [],
   "source": [
    "def download_data(download_dst, url):\n",
    "    temp_path = None\n",
    "    filename = url[url.rfind(\"/\")+1:]\n",
    "    if download_dst[-1] != '/':\n",
    "        download_dst += '/'\n",
    "        \n",
    "    if os.path.exists(download_dst):\n",
    "        download_dst += filename\n",
    "        response = requests.get(url, auth=(username, password))\n",
    "#         response = requests.get(url, auth=HTTPBasicAuth(username, password))\n",
    "#         response = requests.get(url)\n",
    "        print(response.headers)\n",
    "        if response.status_code == 200:\n",
    "            chunk_size = 64 * 1024\n",
    "            with open(download_dst, 'wb') as f:\n",
    "                for content in response.iter_content(chunk_size):\n",
    "                    f.write(content)\n",
    "        else:\n",
    "            print(\"Different status code: \", response)\n",
    "    else:\n",
    "        raise ValueError(\"Sorry, but the download destination that you requested is not a path.\")"
   ]
  },
  {
   "cell_type": "code",
   "execution_count": null,
   "metadata": {},
   "outputs": [],
   "source": [
    "dst = \"/Users/rditlaav/Documents/\"\n",
    "url = \"https://ladsweb.modaps.eosdis.nasa.gov/archive/allData/6/MYD04_3K/2018/101/MYD04_3K.A2018101.2355.006.2018102160457.hdf\"\n",
    "url2 = 'http://e4ftl01.cr.usgs.gov//MODV6_Dal_D/SRTM/SRTMGL30.002/2000.02.11/w020n40.SRTMGL30.dem.zip'\n",
    "download_data(dst, url2)"
   ]
  },
  {
   "cell_type": "code",
   "execution_count": null,
   "metadata": {},
   "outputs": [],
   "source": []
  },
  {
   "cell_type": "code",
   "execution_count": null,
   "metadata": {},
   "outputs": [],
   "source": []
  }
 ],
 "metadata": {
  "kernelspec": {
   "display_name": "Python 3",
   "language": "python",
   "name": "python3"
  },
  "language_info": {
   "codemirror_mode": {
    "name": "ipython",
    "version": 3
   },
   "file_extension": ".py",
   "mimetype": "text/x-python",
   "name": "python",
   "nbconvert_exporter": "python",
   "pygments_lexer": "ipython3",
   "version": "3.6.5"
  }
 },
 "nbformat": 4,
 "nbformat_minor": 2
}
