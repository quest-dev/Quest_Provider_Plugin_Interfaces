{
 "cells": [
  {
   "cell_type": "code",
   "execution_count": null,
   "metadata": {},
   "outputs": [],
   "source": [
    "import json\n",
    "import urllib\n",
    "import base64\n",
    "from rauth import OAuth2Service"
   ]
  },
  {
   "cell_type": "code",
   "execution_count": null,
   "metadata": {},
   "outputs": [],
   "source": [
    "\n",
    "class ExampleOAuth2Client:\n",
    "    def __init__(self, client_id, client_secret):\n",
    "        self.access_token = None\n",
    "        self.refresh_token = None\n",
    "        self.service = OAuth2Service(\n",
    "            name=\"hydroshare\",\n",
    "            client_id=client_id,\n",
    "            client_secret=client_secret,\n",
    "            access_token_url=\"https://www.hydroshare.org/o/token/\",\n",
    "            authorize_url=\"https://www.hydroshare.org/o/authorize/\",\n",
    "            base_url=\"https://www.hydroshare.org/\",\n",
    "        )\n",
    "        self.get_access_token()\n",
    "\n",
    "    def get_access_token(self):\n",
    "        data = {\"access_token\": \"\",\n",
    "                \"token_type\": \"Bearer\",\n",
    "                \"expires_in\": 36000,\n",
    "                \"refresh_token\": \"\",\n",
    "                \"scope\": \"Read write groups\"}\n",
    "        \n",
    "        session = self.service.get_auth_session(data=data, decoder=json.loads)\n",
    "        \n",
    "        self.access_token = session.access_token"
   ]
  },
  {
   "cell_type": "code",
   "execution_count": null,
   "metadata": {},
   "outputs": [],
   "source": [
    "Client_ID = \"O6QCEJ6xpgAyzp0lMvffEMssJhUR5vG761n8XipK\"\n",
    "Client_Secret = \"AAYk4UnRxrK6siGuTCggtArmq9CFsML5HCuUHj5K4yrjPBaTv9dHN9GoXc9q0DlflMf8M6bcfnjUaJMyI0TH7qWsJelIDJQpwSdHmlMD2uy1iyhZpd0vgx178jtggWRh\""
   ]
  },
  {
   "cell_type": "code",
   "execution_count": null,
   "metadata": {},
   "outputs": [],
   "source": [
    "my_token = ExampleOAuth2Client(Client_ID, Client_Secret)"
   ]
  },
  {
   "cell_type": "code",
   "execution_count": null,
   "metadata": {},
   "outputs": [],
   "source": [
    "Name = AaronV\n",
    "Client Id = O6QCEJ6xpgAyzp0lMvffEMssJhUR5vG761n8XipK\n",
    "Client Secret = AAYk4UnRxrK6siGuTCggtArmq9CFsML5HCuUHj5K4yrjPBaTv9dHN9GoXc9q0DlflMf8M6bcfnjUaJMyI0TH7qWsJelIDJQpwSdHmlMD2uy1iyhZpd0vgx178jtggWRh\n",
    "Client Type = Confidential\n",
    "Authorization Grant Type = Authorizaton code\n",
    "Redirect uris = https://www.hydroshare.org/\n",
    "    b'{\"error\": \"invalid_grant\"}'"
   ]
  }
 ],
 "metadata": {
  "kernelspec": {
   "display_name": "Python 3",
   "language": "python",
   "name": "python3"
  },
  "language_info": {
   "codemirror_mode": {
    "name": "ipython",
    "version": 3
   },
   "file_extension": ".py",
   "mimetype": "text/x-python",
   "name": "python",
   "nbconvert_exporter": "python",
   "pygments_lexer": "ipython3",
   "version": "3.6.5"
  }
 },
 "nbformat": 4,
 "nbformat_minor": 2
}
