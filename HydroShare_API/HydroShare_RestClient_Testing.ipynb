{
 "cells": [
  {
   "cell_type": "code",
   "execution_count": null,
   "metadata": {},
   "outputs": [],
   "source": [
    "from hs_restclient import HydroShare, HydroShareAuthBasic\n",
    "from getpass import getpass"
   ]
  },
  {
   "cell_type": "code",
   "execution_count": null,
   "metadata": {},
   "outputs": [],
   "source": [
    "auth = HydroShareAuthBasic(username=input(\"Username: \"), password=getpass(\"Password: \"))\n",
    "hs = HydroShare(auth=auth, hostname='', port=443, use_https=True, verify=False)\n"
   ]
  },
  {
   "cell_type": "code",
   "execution_count": null,
   "metadata": {},
   "outputs": [],
   "source": [
    "hs = HydroShare()"
   ]
  },
  {
   "cell_type": "code",
   "execution_count": null,
   "metadata": {},
   "outputs": [],
   "source": [
    "counter = 0\n",
    "for resource in hs.resources():\n",
    "    counter += 1\n",
    "print(counter)"
   ]
  },
  {
   "cell_type": "code",
   "execution_count": null,
   "metadata": {},
   "outputs": [],
   "source": [
    "counter = 0\n",
    "for resource in hs.resources(coverage_type=\"box\", north=\"50\", south=\"30\", east=\"-80\", west=\"-120\"):\n",
    "    counter += 1\n",
    "print(counter)"
   ]
  },
  {
   "cell_type": "code",
   "execution_count": null,
   "metadata": {},
   "outputs": [],
   "source": [
    "counter = 0\n",
    "for resource in hs.resources(coverage_type=\"box\", north=\"90\", south=\"-90\", east=\"180\", west=\"-180\"):\n",
    "    counter += 1\n",
    "print(counter)"
   ]
  },
  {
   "cell_type": "code",
   "execution_count": null,
   "metadata": {},
   "outputs": [],
   "source": [
    "# To create a resource\n",
    "abstract = 'My abstract'\n",
    "title = 'The Testing Resource'\n",
    "keywords = ('my keyword 1', 'my keyword 2')\n",
    "rtype = 'GenericResource'\n",
    "fpath = '/Users/rditlaav/Documents/python_api.py'\n",
    "metadata = '[{\"coverage\":{\"type\":\"period\", \"value\":{\"start\":\"01/01/2000\", \"end\":\"12/12/2010\"}}}, {\"creator\":{\"name\":\"John Smith\"}}, {\"creator\":{\"name\":\"Lisa Miller\"}}]'\n",
    "extra_metadata = '{\"key-1\": \"value-1\", \"key-2\": \"value-2\"}'\n",
    "resource_id = hs.createResource(rtype, title, resource_file=fpath, keywords=keywords, abstract=abstract, metadata=metadata, extra_metadata=extra_metadata)"
   ]
  },
  {
   "cell_type": "code",
   "execution_count": null,
   "metadata": {},
   "outputs": [],
   "source": [
    "# To make a resource public\n",
    "hs.setAccessRules(resource_id, public=True)"
   ]
  },
  {
   "cell_type": "code",
   "execution_count": null,
   "metadata": {},
   "outputs": [],
   "source": [
    "# To make a resource discoverable\n",
    "hs.resource(resource_id).discoverable(True)"
   ]
  }
 ],
 "metadata": {
  "kernelspec": {
   "display_name": "Python 3",
   "language": "python",
   "name": "python3"
  },
  "language_info": {
   "codemirror_mode": {
    "name": "ipython",
    "version": 3
   },
   "file_extension": ".py",
   "mimetype": "text/x-python",
   "name": "python",
   "nbconvert_exporter": "python",
   "pygments_lexer": "ipython3",
   "version": "3.6.5"
  }
 },
 "nbformat": 4,
 "nbformat_minor": 2
}
