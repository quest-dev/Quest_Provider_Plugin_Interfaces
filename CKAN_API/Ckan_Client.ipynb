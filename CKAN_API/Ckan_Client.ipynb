{
 "cells": [
  {
   "cell_type": "code",
   "execution_count": null,
   "metadata": {},
   "outputs": [],
   "source": [
    "# This list of problems so far:\n",
    "    # Cannot delete or edit a package without internal server errors.\n",
    "    # Cannot get a format on a resource that I uploaded.\n",
    "    # CKAN uses solr for queries and the application is not working with the AND operator."
   ]
  },
  {
   "cell_type": "code",
   "execution_count": null,
   "metadata": {},
   "outputs": [],
   "source": [
    "from ckanapi import RemoteCKAN# conda install -c conda-forge ckanapi\n",
    "from pprint import pprint\n",
    "import datetime"
   ]
  },
  {
   "cell_type": "code",
   "execution_count": null,
   "metadata": {},
   "outputs": [],
   "source": [
    "api_key = \"141f6c4e-70df-4b3d-b3b3-963c11b96f03\""
   ]
  },
  {
   "cell_type": "code",
   "execution_count": null,
   "metadata": {},
   "outputs": [],
   "source": [
    "demo = RemoteCKAN(address='https://demo.ckan.org', apikey=api_key)\n",
    "# demo = RemoteCKAN(address='https://ciwckan.chpc.utah.edu/', apikey=api_key)"
   ]
  },
  {
   "cell_type": "code",
   "execution_count": null,
   "metadata": {},
   "outputs": [],
   "source": [
    "print(type(demo))\n",
    "demo.action.status_show()"
   ]
  },
  {
   "cell_type": "code",
   "execution_count": null,
   "metadata": {},
   "outputs": [],
   "source": [
    "# Get a list of all the groups.\n",
    "groups = demo.action.group_list()\n",
    "# Get a list of all the users.\n",
    "users = demo.action.user_list()"
   ]
  },
  {
   "cell_type": "code",
   "execution_count": null,
   "metadata": {},
   "outputs": [],
   "source": [
    "print(groups)"
   ]
  },
  {
   "cell_type": "code",
   "execution_count": null,
   "metadata": {},
   "outputs": [],
   "source": [
    "print(users)"
   ]
  },
  {
   "cell_type": "code",
   "execution_count": null,
   "metadata": {},
   "outputs": [],
   "source": [
    "for item in users:\n",
    "    if item[\"name\"] == \"aaronv_77\":\n",
    "        print(item)"
   ]
  },
  {
   "cell_type": "code",
   "execution_count": null,
   "metadata": {},
   "outputs": [],
   "source": [
    "# Resets the apikey of the user given.\n",
    "# demo.action.user_generate_apikey(id=\"aaronv_77\")"
   ]
  },
  {
   "cell_type": "code",
   "execution_count": null,
   "metadata": {},
   "outputs": [],
   "source": [
    "dataset_name = \"who-cares-2003\"\n",
    "dataset_dict = {\"name\": dataset_name, \"title\": dataset_name, \"private\": False, \"author\": \"Aaron Valoroso\",\n",
    "                \"author_email\": \"none_of_your_buisness@.com\", \"maintainer\": \"Aaron Valoroso\", \"license_id\": \"None\", \n",
    "                \"notes\": \"nothing to explain\", \"url\": \"http://www.nco.ncep.noaa.gov/pmb/products/gfs/\",\n",
    "                \"version\": \"version-1\", \"state\": \"active\", \"type\": \"weather\"}\n",
    "\n",
    "# Example of all the parameters that creating a package can have.\n",
    "# dataset_dict = {\"name\": \"test_dataset997799\", \"title\": \"test_dataset2\", \"private\": False, \"author\": \"Aaron Valoroso\",\n",
    "#                 \"author_email\": \"none_of_your_buisness@.com\", \"maintainer\": \"Aaron Valoroso\", \"license_id\": \"None\", \n",
    "#                 \"notes\": \"nothing to explain\", \"url\": \"http://www.nco.ncep.noaa.gov/pmb/products/gfs/\",\n",
    "#                 \"version\": \"version-1\", \"state\": \"active\", \"type\": \"weather\", \"resource\": resource1, \"tags\": tag1, \n",
    "#                 \"extras\": None, \"relationships_as_object\": None, \"relationships_as_subject\": None, \"groups\": None,\n",
    "#                 \"owner_org\": None}\n",
    "\n",
    "# Creating an empty package.\n",
    "# dataset_dict = {\"name\": \"test_dataset997799\", \"title\": \"test_dataset9999\", \"private\": False, \"author\": \"Aaron Valoroso\",\n",
    "#                \"author_email\": \"none_of_your_buisness@.com\", \"maintainer\": \"Aaron Valoroso\"}\n",
    "my_context = {}"
   ]
  },
  {
   "cell_type": "code",
   "execution_count": null,
   "metadata": {},
   "outputs": [],
   "source": [
    "# Create a dataset for my user.\n",
    "my_package = demo.action.package_create(context=my_context, **dataset_dict)\n",
    "pprint(my_package)"
   ]
  },
  {
   "cell_type": "code",
   "execution_count": null,
   "metadata": {},
   "outputs": [],
   "source": [
    "# Example of all the parameters that creating a resource can have.\n",
    "resource1 = {\"package_id\": my_package[\"id\"], \"url\": \"\",\n",
    "             \"revision_id\": \"version-1\", \"description\": \"To setup an environment for anaconda\", \"format\": \"yaml\", \"hash\": \"none\", \n",
    "             \"name\": \"Environment File\", \"resource_type\": \"none\", \"mimetype\": \"none\", \"mimetype_inner\": \"none\",\n",
    "             \"cache_url\": \"none\", \"size\": 308, \"created\": \"2018-03-27\", \"last_modified\": \"2018-03-27\",\n",
    "             \"cache_last_updated\": \"2018-03-27\", \"upload\": \"/Users/rditlaav/Documents/Quest/quest/conda_environment.yml\"}"
   ]
  },
  {
   "cell_type": "code",
   "execution_count": null,
   "metadata": {},
   "outputs": [],
   "source": [
    "resource1 = {\"package_id\": my_package[\"id\"], \"url\": \"https://github.com\", \"description\": \"conda env file\", \"format\": \"python\",\n",
    "             \"name\": \"Python2 Conda Env File\", \"resource_type\": \"Generic\", \"created\": \"2018-03-27\",\n",
    "             \"last_modified\": \"2018-03-27\", \"cache_last_updated\": \"2018-03-27\", \"datastore_active\": True,\n",
    "             \"upload\": \"/Users/rditlaav/Documents/Quest/quest/py2_conda_environment.yml\"}"
   ]
  },
  {
   "cell_type": "code",
   "execution_count": null,
   "metadata": {},
   "outputs": [],
   "source": [
    "demo.action.resource_create(**resource1)"
   ]
  },
  {
   "cell_type": "code",
   "execution_count": null,
   "metadata": {},
   "outputs": [],
   "source": [
    "view1 = {\"resource_id\": \"076976a4-256e-46a2-87fa-f23ef185b3c9\", \"title\": \"who-cares-2003\", \"description\": \"SomeThing\", \"view_type\": \"\"}"
   ]
  },
  {
   "cell_type": "code",
   "execution_count": null,
   "metadata": {},
   "outputs": [],
   "source": [
    "demo.action.resource_view_create(**view1)"
   ]
  },
  {
   "cell_type": "code",
   "execution_count": null,
   "metadata": {},
   "outputs": [],
   "source": [
    "# Delete the dataset from CKAN.\n",
    "demo.action.package_delete(id=dataset_name)"
   ]
  },
  {
   "cell_type": "code",
   "execution_count": null,
   "metadata": {},
   "outputs": [],
   "source": [
    "# Try searching for datasets off these parameters.\n",
    "# Organizations, Groups, Tags, Formats, Licenses.\n",
    "my_dict = {\"q\": \"tags:test AND formats:CSV\"}\n",
    "demo.action.package_search(**my_dict)"
   ]
  },
  {
   "cell_type": "code",
   "execution_count": null,
   "metadata": {},
   "outputs": [],
   "source": [
    "#Get a list of all the packages\n",
    "packages = demo.action.package_list()\n",
    "len(packages)\n",
    "packages"
   ]
  },
  {
   "cell_type": "code",
   "execution_count": null,
   "metadata": {},
   "outputs": [],
   "source": [
    "# Gets a list of metadata on the specified package\n",
    "my_dict = {'id': \"abz-xyc-dataset-test\"}\n",
    "resource = demo.action.package_show(**my_dict)\n",
    "resource"
   ]
  },
  {
   "cell_type": "code",
   "execution_count": null,
   "metadata": {},
   "outputs": [],
   "source": [
    "my_dict = {}\n",
    "for p in packages:\n",
    "    my_dict[p] = demo.action.package_show(id=p)\n",
    "\n",
    "len(my_dict)"
   ]
  },
  {
   "cell_type": "code",
   "execution_count": null,
   "metadata": {},
   "outputs": [],
   "source": [
    "demo.action.package_search()"
   ]
  },
  {
   "cell_type": "code",
   "execution_count": null,
   "metadata": {},
   "outputs": [],
   "source": [
    "my_dict[\"fdsdsf\"]"
   ]
  },
  {
   "cell_type": "code",
   "execution_count": null,
   "metadata": {},
   "outputs": [],
   "source": [
    "packages = demo.action.package_search(q=\"title:test\", start=0, rows=1000)\n",
    "print(len(packages['results']))\n",
    "\n",
    "# my_list = []\n",
    "# my_list2 = []\n",
    "# for item in packages['results']:\n",
    "#     for key, value in item.items():\n",
    "#         if key == \"title\":\n",
    "#             my_list.append(value)\n",
    "# print(len(my_list))"
   ]
  },
  {
   "cell_type": "code",
   "execution_count": null,
   "metadata": {},
   "outputs": [],
   "source": [
    "resource1 = {\"package_id\": my_package[\"id\"], \"description\": \"conda env file\", \"format\": \"python\",\n",
    "             \"name\": \"Python2 Conda Env File\", \"resource_type\": \"Generic\", \"size\": 308, \"created\": \"2018-03-27\",\n",
    "             \"last_modified\": \"2018-03-27\", \"cache_last_updated\": \"2018-03-27\", \n",
    "             \"upload\": \"/Users/aaron/Documents/Quest/quest/py2_conda_environment.yml\"}"
   ]
  },
  {
   "cell_type": "code",
   "execution_count": null,
   "metadata": {},
   "outputs": [],
   "source": []
  }
 ],
 "metadata": {
  "kernelspec": {
   "display_name": "Python 3",
   "language": "python",
   "name": "python3"
  },
  "language_info": {
   "codemirror_mode": {
    "name": "ipython",
    "version": 3
   },
   "file_extension": ".py",
   "mimetype": "text/x-python",
   "name": "python",
   "nbconvert_exporter": "python",
   "pygments_lexer": "ipython3",
   "version": "3.6.5"
  }
 },
 "nbformat": 4,
 "nbformat_minor": 2
}
