{
 "cells": [
  {
   "cell_type": "code",
   "execution_count": null,
   "metadata": {},
   "outputs": [],
   "source": [
    "from ckanapi import RemoteCKAN# conda install -c conda-forge ckanapi\n",
    "from pprint import pprint\n",
    "import pandas as pd\n",
    "import geojson\n",
    "from shapely.geometry import shape"
   ]
  },
  {
   "cell_type": "code",
   "execution_count": null,
   "metadata": {},
   "outputs": [],
   "source": [
    "# demo = RemoteCKAN(address='https://catalog.data.gov/') # 2.3\n",
    "# demo = RemoteCKAN(address='https://data.noaa.gov/') # No API\n",
    "# demo = RemoteCKAN(address='https://ckan.geoplatform.gov/') # No API\n",
    "demo = RemoteCKAN(address='https://gisdata.mn.gov/') # 2.3\n",
    "# demo = RemoteCKAN(address='https://catalogue.data.wa.gov.au/') # 2.5\n",
    "# demo = RemoteCKAN(address='http://search.geothermaldata.org/') # 2.2"
   ]
  },
  {
   "cell_type": "code",
   "execution_count": null,
   "metadata": {},
   "outputs": [],
   "source": [
    "pd.set_option(\"display.max_columns\", 500)\n",
    "pd.set_option(\"display.width\", 1000)\n",
    "demo.action.status_show()"
   ]
  },
  {
   "cell_type": "code",
   "execution_count": null,
   "metadata": {},
   "outputs": [],
   "source": [
    "packages = demo.action.package_search(extras={\"ext_bbox\": \"-96.7236328125,45.767522962149876,-93.515625,48.545705491847464\"}, start=0, rows=10) # Minnisota\n",
    "# packages = demo.action.package_search(extras={\"ext_bbox\": \"95.80078125000001,-48.2246726495652,186.50390625000003,-12.897489183755892\"}, start=0, rows=100) # au    \n",
    "# packages = demo.action.package_search(extras={\"ext_bbox\": \"-133.59375,19.31114335506464,-60.46875,55.3791104480105\"}, start=0, rows=10) # NGDS\n",
    "# packages = demo.action.package_search(start=0, rows=1000)\n",
    "print(\"Number of results: \", len(packages['results']))\n",
    "print(\"Number of total datasets: \", packages['count'])\n",
    "# packages\n",
    "my_bool = False\n",
    "new_dictionary = {}\n",
    "for item in packages['results']:\n",
    "    for key, value in item.items():\n",
    "        if key == \"extras\":\n",
    "            for item in value:\n",
    "                for key2, value2 in item.items():\n",
    "                    if my_bool == True:\n",
    "                        print(value2)\n",
    "                        my_bool = False\n",
    "                    if value2 == \"spatial\":\n",
    "                        my_bool = True                        "
   ]
  },
  {
   "cell_type": "code",
   "execution_count": null,
   "metadata": {},
   "outputs": [],
   "source": [
    "def parse_extras(row):\n",
    "    for item in row:\n",
    "        print(item)"
   ]
  },
  {
   "cell_type": "code",
   "execution_count": null,
   "metadata": {},
   "outputs": [],
   "source": [
    "features = pd.DataFrame(packages['results'])\n",
    "\n",
    "print(len(features))\n",
    "\n",
    "features\n",
    "# f.index\n",
    "# extras_dict = {i['key']: i['value'] for i in features.extras[8]}\n",
    "# features['extras'].to_replace(extras_dict)"
   ]
  },
  {
   "cell_type": "code",
   "execution_count": null,
   "metadata": {},
   "outputs": [],
   "source": [
    "# changes extras list of dict (i.e. [{key: foo, value: bar}]) to a single dict (i.e. {foo: bar})\n",
    "features['extras'] = features['extras'].apply(lambda row: {i['key']: i['value'] for i in row})"
   ]
  },
  {
   "cell_type": "code",
   "execution_count": null,
   "metadata": {},
   "outputs": [],
   "source": [
    "# create a new geometry column from extras:spatial field \n",
    "features['geometry'] = features['extras'].apply(lambda r: shape(geojson.loads(r['spatial'])))\n",
    "features['geometry'][1]"
   ]
  },
  {
   "cell_type": "code",
   "execution_count": null,
   "metadata": {},
   "outputs": [],
   "source": [
    "# Minnesota - In another dictionary besides from the base dict.\n",
    "{'key': 'spatial','value': \n",
    "'{\"type\":\"Polygon\",\"coordinates\":[[[-97.5, 43.0],[-97.5, 49.5], [-89.0, 49.5], [-89.0, 43.0], [-97.5, 43.0]]]}'}\n",
    "\n",
    "# Australia - Not in another dictionary but in the base.\n",
    "'spatial': '{\"type\": \"MultiPolygon\", \"coordinates\": [[[[129.0185262340001, -10.413076611999955], [129.0185262340001, \\\n",
    "-35.127538658999974], [96.81714090900003, -35.127538658999974], [96.81714090900003, -10.413076611999955]]]]}',\n",
    "\n",
    "# NGDS (National Geothermal Data System)\n",
    "{'key': 'spatial',\n",
    "'value': '{\"type\": \"Polygon\", \"coordinates\": [[[-73.375, 44.583], [-73.25, 44.583], [-73.25, 44.917], \\\n",
    " [-73.375, 44.917], [-73.375, 44.583]]]}'},"
   ]
  },
  {
   "cell_type": "code",
   "execution_count": null,
   "metadata": {},
   "outputs": [],
   "source": [
    "test = {'key': [{'cat': 'mammal'}, {'dog': 'fido'}, {'fish': 'bingo'}]}\n",
    "test"
   ]
  },
  {
   "cell_type": "code",
   "execution_count": null,
   "metadata": {},
   "outputs": [],
   "source": [
    "# f = features[features.title == \"U.S. Hourly Precipitation Data\"]"
   ]
  },
  {
   "cell_type": "code",
   "execution_count": null,
   "metadata": {},
   "outputs": [],
   "source": [
    "test['key'][2] = {'lizard': 'reptile'}\n",
    "test"
   ]
  },
  {
   "cell_type": "code",
   "execution_count": null,
   "metadata": {},
   "outputs": [],
   "source": [
    "test['key'][1]['dog']"
   ]
  },
  {
   "cell_type": "code",
   "execution_count": null,
   "metadata": {},
   "outputs": [],
   "source": []
  }
 ],
 "metadata": {
  "kernelspec": {
   "display_name": "Python 3",
   "language": "python",
   "name": "python3"
  },
  "language_info": {
   "codemirror_mode": {
    "name": "ipython",
    "version": 3
   },
   "file_extension": ".py",
   "mimetype": "text/x-python",
   "name": "python",
   "nbconvert_exporter": "python",
   "pygments_lexer": "ipython3",
   "version": "3.6.5"
  }
 },
 "nbformat": 4,
 "nbformat_minor": 2
}
