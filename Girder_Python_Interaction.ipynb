{
 "cells": [
  {
   "cell_type": "code",
   "execution_count": null,
   "metadata": {},
   "outputs": [],
   "source": [
    "# For installing the Girder Python Client in anaconda do the following:\n",
    "# conda install -c conda-forge girder-client\n",
    "# conda install -c conda-forge hs_restclient\n",
    "\n",
    "# If you are looking for all of the Girder Documenation then go to the following:\n",
    "# https://girder.readthedocs.io/en/latest/python-client.html#python-client\n",
    "\n",
    "# If you are looking for the github repository, then go to the following:\n",
    "# https://github.com/girder\n",
    "\n",
    "# If you are looking for the live version of Girder then go to the following:\n",
    "# https://challenge.kitware.com/girder#"
   ]
  },
  {
   "cell_type": "code",
   "execution_count": null,
   "metadata": {},
   "outputs": [],
   "source": [
    "import girder_client\n",
    "from getpass import getpass"
   ]
  },
  {
   "cell_type": "code",
   "execution_count": null,
   "metadata": {},
   "outputs": [],
   "source": [
    "gc = girder_client.GirderClient(apiUrl='https://data.kitware.com/api/v1')"
   ]
  },
  {
   "cell_type": "code",
   "execution_count": null,
   "metadata": {},
   "outputs": [],
   "source": [
    "gc.authenticate(input(\"Username: \"), getpass(\"Password: \"))"
   ]
  },
  {
   "cell_type": "code",
   "execution_count": null,
   "metadata": {},
   "outputs": [],
   "source": [
    "gc.getServerVersion()"
   ]
  },
  {
   "cell_type": "code",
   "execution_count": null,
   "metadata": {},
   "outputs": [],
   "source": [
    "url = 'folder/5abd3c448d777f06857911f2'\n",
    "gc.delete(url)"
   ]
  },
  {
   "cell_type": "code",
   "execution_count": null,
   "metadata": {},
   "outputs": [],
   "source": [
    "# This is trying to get my account with my userId.\n",
    "# The \"getUser method does not work for my username, so don't bother trying.\n",
    "# This method also returns more information when you are logged into Girder.\n",
    "gc.getUser(userId=\"5a9f16c18d777f0685786208\")"
   ]
  },
  {
   "cell_type": "code",
   "execution_count": null,
   "metadata": {},
   "outputs": [],
   "source": [
    "users = []\n",
    "for user in gc.listUser():\n",
    "    users.append(user)\n",
    "print(\"Number of users: \", len(users))"
   ]
  },
  {
   "cell_type": "code",
   "execution_count": null,
   "metadata": {},
   "outputs": [],
   "source": [
    "# When you grab the resources from the Girder Live version, if you are signed into the Live site of Girder you will\n",
    "# get your resources and all the public ones as well. If you are not signed in, then you will only get all of the \n",
    "# public resources.\n",
    "\n",
    "# A collection is the same thing as a resource.\n",
    "resources = []\n",
    "for item in gc.listResource('collection'):\n",
    "    if item['name'] == \"Testing\":\n",
    "        resources.append(item)\n",
    "        print(item)\n",
    "\n",
    "print(\"The number of resources: \", len(resources))"
   ]
  },
  {
   "cell_type": "code",
   "execution_count": null,
   "metadata": {},
   "outputs": [],
   "source": [
    "# There is no username associated to any coolection metadata.\n",
    "collections = []\n",
    "for collection in gc.listCollection():\n",
    "    collections.append(collection)\n",
    "print(\"Number of collections: \", len(collections))"
   ]
  },
  {
   "cell_type": "code",
   "execution_count": null,
   "metadata": {},
   "outputs": [],
   "source": [
    "gc.getResource(path='collection', id='5aa01f188d777f06857863a6')"
   ]
  },
  {
   "cell_type": "code",
   "execution_count": null,
   "metadata": {},
   "outputs": [],
   "source": [
    "params = {'name': \"Testing from the API4\", 'description': \"Something to use\", \"public\": True}\n",
    "collection_creation_dict = gc.createResource(path='collection', params=params)\n",
    "collection_ID = collection_creation_dict['_id']"
   ]
  },
  {
   "cell_type": "code",
   "execution_count": null,
   "metadata": {},
   "outputs": [],
   "source": [
    "collection_ID"
   ]
  },
  {
   "cell_type": "code",
   "execution_count": null,
   "metadata": {},
   "outputs": [],
   "source": [
    "parent_ID = collection_ID\n",
    "folder_name = \"Folder-3\"\n",
    "folder_description = \"Just something to add.\"\n",
    "folder_parentType = \"collection\"\n",
    "folder_public = True\n",
    "reuseExisting = False\n",
    "metadata = None\n",
    "folder_dict = {}"
   ]
  },
  {
   "cell_type": "code",
   "execution_count": null,
   "metadata": {},
   "outputs": [],
   "source": [
    "folder_creation_dict = gc.createFolder(parentId=parent_ID, name=folder_name, description=folder_description, parentType=folder_parentType, public=folder_public)"
   ]
  },
  {
   "cell_type": "code",
   "execution_count": null,
   "metadata": {},
   "outputs": [],
   "source": [
    "print(folder_creation_dict)"
   ]
  },
  {
   "cell_type": "code",
   "execution_count": null,
   "metadata": {},
   "outputs": [],
   "source": [
    "for item in gc.listFolder(parentId=collection_ID, parentFolderType=folder_parentType):\n",
    "    folder_dict[item['name']] = item['_id']\n",
    "    print(item)"
   ]
  },
  {
   "cell_type": "code",
   "execution_count": null,
   "metadata": {},
   "outputs": [],
   "source": [
    "for folder_name, folder_ID in folder_dict.items():\n",
    "    print(folder_name + \": \" + folder_ID)"
   ]
  },
  {
   "cell_type": "code",
   "execution_count": null,
   "metadata": {},
   "outputs": [],
   "source": [
    "# Might want to allow the user to select which folder to pick from.\n",
    "folderId = folder_dict['Folder-2']\n",
    "filepath = '/Users/AaronV/Documents/Github/Python/NoteBooks/Girder_Python_Interaction.ipynb'"
   ]
  },
  {
   "cell_type": "code",
   "execution_count": null,
   "metadata": {},
   "outputs": [],
   "source": [
    "gc.uploadFileToFolder(folderId, filepath)"
   ]
  },
  {
   "cell_type": "code",
   "execution_count": null,
   "metadata": {},
   "outputs": [],
   "source": [
    "for item in gc.listFolder(parentId=\"5abd3c658d777f06857911f3\", parentFolderType=\"folder\"):\n",
    "    print(item)"
   ]
  },
  {
   "cell_type": "code",
   "execution_count": null,
   "metadata": {},
   "outputs": [],
   "source": [
    "# Bugs and issues:\n",
    "# Why is the URL adding a # for the collection\n",
    "# Why do I have to add collection to the path, if so then path should be data type.\n",
    "# Why is an item a resource?"
   ]
  }
 ],
 "metadata": {
  "kernelspec": {
   "display_name": "Python 3",
   "language": "python",
   "name": "python3"
  },
  "language_info": {
   "codemirror_mode": {
    "name": "ipython",
    "version": 3
   },
   "file_extension": ".py",
   "mimetype": "text/x-python",
   "name": "python",
   "nbconvert_exporter": "python",
   "pygments_lexer": "ipython3",
   "version": "3.6.5"
  }
 },
 "nbformat": 4,
 "nbformat_minor": 2
}
